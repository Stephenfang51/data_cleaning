{
 "cells": [
  {
   "cell_type": "markdown",
   "metadata": {},
   "source": [
    "## apt-get install ffmpeg"
   ]
  },
  {
   "cell_type": "code",
   "execution_count": 8,
   "metadata": {},
   "outputs": [],
   "source": [
    "import os\n",
    "import glob\n",
    "import cv2\n",
    "import shutil\n",
    "from multiprocessing import Pool\n",
    "from functools import partial\n",
    "from tqdm import tqdm\n",
    "import numpy as np"
   ]
  },
  {
   "cell_type": "code",
   "execution_count": 9,
   "metadata": {},
   "outputs": [],
   "source": [
    "def auto_unzip_fun(x, f):\n",
    "    return f(*x)\n",
    "\n",
    "\n",
    "\n",
    "def make_video(output_mp4_path, img_path_list, save_frames_dir=None, fps=24):\n",
    "\n",
    "    \"\"\"\n",
    "    output_path is the final mp4 name\n",
    "    img_dir is where the images to make into video are saved.\n",
    "    \"\"\"\n",
    "\n",
    "    first_img = cv2.imread(img_path_list[0])\n",
    "    h, w = first_img.shape[:2]\n",
    "\n",
    "    pool_size = 40\n",
    "    tmp_avi_video_path = '%s.avi' % output_mp4_path\n",
    "    fourcc = cv2.VideoWriter_fourcc(*'XVID')\n",
    "\n",
    "    videoWriter = cv2.VideoWriter(tmp_avi_video_path, fourcc, fps, (w, h))\n",
    "    args_list = [(img_path,) for img_path in img_path_list]\n",
    "    with Pool(pool_size) as p:\n",
    "        for img in tqdm(p.imap(partial(auto_unzip_fun, f=cv2.imread), args_list), total=len(args_list)):\n",
    "            videoWriter.write(img)\n",
    "    videoWriter.release()\n",
    "\n",
    "    if save_frames_dir:\n",
    "        for i, img_path in enumerate(img_path_list):\n",
    "            shutil.copy(img_path, '%s/%.8d.jpg' % (save_frames_dir, i))\n",
    "\n",
    "    os.system(\"ffmpeg -y -i %s -vcodec h264 %s > /dev/null 2>&1\" % (tmp_avi_video_path, output_mp4_path))\n",
    "    os.system(\"rm %s\" % (tmp_avi_video_path))"
   ]
  },
  {
   "cell_type": "markdown",
   "metadata": {},
   "source": [
    "### save_dir ： 填入要生成影片的位置\n",
    "### output_path ：主要加上mp4\n",
    "### src_dir ： 填入要转换的图片文件夹\n"
   ]
  },
  {
   "cell_type": "code",
   "execution_count": 10,
   "metadata": {},
   "outputs": [
    {
     "name": "stderr",
     "output_type": "stream",
     "text": [
      "100%|██████████| 1508/1508 [00:17<00:00, 85.17it/s] \n"
     ]
    }
   ],
   "source": [
    "save_dir = '/Users/stephenfang/Desktop/workplace/'\n",
    "output_path = os.path.join(save_dir, 'test.mp4')\n",
    "\n",
    "test_dir = '/Users/stephenfang/Desktop/impersonator/samples/refs/iPER/024_8_2'\n",
    "img_path_list = sorted(glob.glob('%s/*.jpg' % src_dir))\n",
    "make_video(output_path, img_path_list)"
   ]
  },
  {
   "cell_type": "code",
   "execution_count": null,
   "metadata": {},
   "outputs": [],
   "source": []
  }
 ],
 "metadata": {
  "kernelspec": {
   "display_name": "Python 3",
   "language": "python",
   "name": "python3"
  },
  "language_info": {
   "codemirror_mode": {
    "name": "ipython",
    "version": 3
   },
   "file_extension": ".py",
   "mimetype": "text/x-python",
   "name": "python",
   "nbconvert_exporter": "python",
   "pygments_lexer": "ipython3",
   "version": "3.7.3"
  }
 },
 "nbformat": 4,
 "nbformat_minor": 2
}
