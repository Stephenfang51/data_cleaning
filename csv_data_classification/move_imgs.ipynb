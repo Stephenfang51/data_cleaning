{
 "cells": [
  {
   "cell_type": "markdown",
   "metadata": {},
   "source": [
    "### move imgs file depends on your csv"
   ]
  },
  {
   "cell_type": "code",
   "execution_count": null,
   "metadata": {},
   "outputs": [],
   "source": [
    "import shutil\n",
    "import os\n",
    "import csv\n",
    "\n",
    "target_path = 'target_to_be_moved'\n",
    "original_path = 'imgs_path_to_move'\n",
    "\n",
    "\n",
    "\n",
    "with open('/xxx/train.csv___or____/xxx/test.csv',\"rt\", encoding=\"utf-8\") as csvfile:\n",
    "    reader = csv.reader(csvfile)\n",
    "    rows= [row for row in reader]\n",
    "\n",
    "    for row in rows:\n",
    "        if row[0] == 'Id': #this is for skipping the first rows, depends on your header\n",
    "            continue;\n",
    "        else:\n",
    "            full_path = original_path + row[0]\n",
    "            shutil.move(full_path, target_path)"
   ]
  }
 ],
 "metadata": {
  "kernelspec": {
   "display_name": "Python 3",
   "language": "python",
   "name": "python3"
  },
  "language_info": {
   "codemirror_mode": {
    "name": "ipython",
    "version": 3
   },
   "file_extension": ".py",
   "mimetype": "text/x-python",
   "name": "python",
   "nbconvert_exporter": "python",
   "pygments_lexer": "ipython3",
   "version": "3.7.3"
  }
 },
 "nbformat": 4,
 "nbformat_minor": 2
}
