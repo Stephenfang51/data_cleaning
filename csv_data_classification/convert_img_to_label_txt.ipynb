{
 "cells": [
  {
   "cell_type": "markdown",
   "metadata": {},
   "source": [
    "### convert  imgs to label txt according to csv"
   ]
  },
  {
   "cell_type": "code",
   "execution_count": null,
   "metadata": {},
   "outputs": [],
   "source": [
    "import pandas as pd\n",
    "import os\n",
    "\n",
    "label_dir = '/xxx/train/labels'\n",
    "with open('/xxx/train.csv','r') as f:\n",
    "    readlines = f.readlines()\n",
    "    for readline in readlines:\n",
    "        readline_split = readline.strip().split(',')\n",
    "        save_path = os.path.join(label_dir,readline_split[0].split('.')[0]+'.txt')\n",
    "        with open(save_path,'w',encoding='utf-8') as f:\n",
    "            f.write(readline_split[1])\n",
    "\n",
    "\n",
    "label_dir = '/xxx/test/labels'\n",
    "with open('/xxx/dev.csv','r') as f:\n",
    "    readlines = f.readlines()\n",
    "    for readline in readlines:\n",
    "        readline_split = readline.strip().split(',')\n",
    "        save_path = os.path.join(label_dir,readline_split[0].split('.')[0]+'.txt')\n",
    "        with open(save_path,'w',encoding='utf-8') as f:\n",
    "            f.write(readline_split[1])\n"
   ]
  }
 ],
 "metadata": {
  "kernelspec": {
   "display_name": "Python 3",
   "language": "python",
   "name": "python3"
  },
  "language_info": {
   "codemirror_mode": {
    "name": "ipython",
    "version": 3
   },
   "file_extension": ".py",
   "mimetype": "text/x-python",
   "name": "python",
   "nbconvert_exporter": "python",
   "pygments_lexer": "ipython3",
   "version": "3.7.3"
  }
 },
 "nbformat": 4,
 "nbformat_minor": 2
}
