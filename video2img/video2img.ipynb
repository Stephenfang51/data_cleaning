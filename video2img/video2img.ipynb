{
 "cells": [
  {
   "cell_type": "code",
   "execution_count": 1,
   "metadata": {},
   "outputs": [
    {
     "name": "stdout",
     "output_type": "stream",
     "text": [
      "Totally save 555 pics\n"
     ]
    }
   ],
   "source": [
    "# coding=utf-8\n",
    "\n",
    "# 全局变量\n",
    "VIDEO_PATH = '/Users/stephenfang/Desktop/workplace/twice.mp4' # 视频地址\n",
    "EXTRACT_FOLDER = '/Users/stephenfang/Desktop/workplace/img' # 存放帧图片的位置\n",
    "EXTRACT_FREQUENCY = 10 # 帧提取频率\n",
    "\n",
    "\n",
    "def extract_frames(video_path, dst_folder, index):\n",
    "    # 主操作\n",
    "    import cv2\n",
    "    video = cv2.VideoCapture()\n",
    "    if not video.open(video_path):\n",
    "        print(\"can not open the video\")\n",
    "        exit(1)\n",
    "    count = 1\n",
    "    while True:\n",
    "        _, frame = video.read()\n",
    "        if frame is None:\n",
    "            break\n",
    "        if count % EXTRACT_FREQUENCY == 0:\n",
    "            save_path = \"{}/{:>03d}.jpg\".format(dst_folder, index)\n",
    "            cv2.imwrite(save_path, frame)\n",
    "            index += 1\n",
    "        count += 1\n",
    "    video.release()\n",
    "    # 打印出所提取帧的总数\n",
    "    print(\"Totally save {:d} pics\".format(index-1))\n",
    "\n",
    "\n",
    "def main():\n",
    "    # 递归删除之前存放帧图片的文件夹，并新建一个\n",
    "    import shutil\n",
    "    try:\n",
    "        shutil.rmtree(EXTRACT_FOLDER)\n",
    "    except OSError:\n",
    "        pass\n",
    "    import os\n",
    "    os.mkdir(EXTRACT_FOLDER)\n",
    "    # 抽取帧图片，并保存到指定路径\n",
    "    extract_frames(VIDEO_PATH, EXTRACT_FOLDER, 1)\n",
    "\n",
    "\n",
    "if __name__ == '__main__':\n",
    "    main()\n"
   ]
  },
  {
   "cell_type": "code",
   "execution_count": null,
   "metadata": {},
   "outputs": [],
   "source": []
  }
 ],
 "metadata": {
  "kernelspec": {
   "display_name": "Python 3",
   "language": "python",
   "name": "python3"
  },
  "language_info": {
   "codemirror_mode": {
    "name": "ipython",
    "version": 3
   },
   "file_extension": ".py",
   "mimetype": "text/x-python",
   "name": "python",
   "nbconvert_exporter": "python",
   "pygments_lexer": "ipython3",
   "version": "3.7.3"
  }
 },
 "nbformat": 4,
 "nbformat_minor": 2
}
